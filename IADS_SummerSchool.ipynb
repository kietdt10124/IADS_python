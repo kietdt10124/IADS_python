{
  "nbformat": 4,
  "nbformat_minor": 0,
  "metadata": {
    "colab": {
      "name": "IADS_SummerSchool.ipynb",
      "provenance": [],
      "authorship_tag": "ABX9TyPVEBYco/1htcs0OVeUfwbc",
      "include_colab_link": true
    },
    "kernelspec": {
      "name": "python3",
      "display_name": "Python 3"
    },
    "language_info": {
      "name": "python"
    }
  },
  "cells": [
    {
      "cell_type": "markdown",
      "metadata": {
        "id": "view-in-github",
        "colab_type": "text"
      },
      "source": [
        "<a href=\"https://colab.research.google.com/github/kietdt10124/IADS_python/blob/main/IADS_SummerSchool.ipynb\" target=\"_parent\"><img src=\"https://colab.research.google.com/assets/colab-badge.svg\" alt=\"Open In Colab\"/></a>"
      ]
    },
    {
      "cell_type": "markdown",
      "metadata": {
        "id": "lXvZwOKzBUyw"
      },
      "source": [
        "# IADS Summer School\n",
        "## Hello Everyone\n",
        "### Hi\n",
        "#### 1. First\n",
        "#### 2. Second\n",
        "This is my first code in Python"
      ]
    },
    {
      "cell_type": "code",
      "metadata": {
        "colab": {
          "base_uri": "https://localhost:8080/"
        },
        "id": "pnbne0CU_opv",
        "outputId": "5b2817db-3a48-47fb-aed6-de8fde28a1a0"
      },
      "source": [
        "#This is my comment line: I am printing a sentence\n",
        "print('Welcome to the IADS Summer School')"
      ],
      "execution_count": 2,
      "outputs": [
        {
          "output_type": "stream",
          "text": [
            "Welcome to the IADS Summer School\n"
          ],
          "name": "stdout"
        }
      ]
    }
  ]
}